{
 "cells": [
  {
   "cell_type": "code",
   "execution_count": 19,
   "id": "d5ff47b1",
   "metadata": {},
   "outputs": [],
   "source": [
    "import pandas as pd\n",
    "import matplotlib.pyplot as plt\n",
    "import numpy as np\n",
    "import seaborn as sns\n"
   ]
  },
  {
   "cell_type": "code",
   "execution_count": 20,
   "id": "9c2542a0",
   "metadata": {},
   "outputs": [],
   "source": [
    "data = pd.read_csv('amazon.csv')\n",
    "data =data.iloc[0:500]"
   ]
  },
  {
   "cell_type": "code",
   "execution_count": 21,
   "id": "50059fe7",
   "metadata": {},
   "outputs": [
    {
     "name": "stdout",
     "output_type": "stream",
     "text": [
      "<class 'pandas.core.frame.DataFrame'>\n",
      "RangeIndex: 500 entries, 0 to 499\n",
      "Data columns (total 7 columns):\n",
      " #   Column     Non-Null Count  Dtype  \n",
      "---  ------     --------------  -----  \n",
      " 0   Date       500 non-null    object \n",
      " 1   Open       500 non-null    float64\n",
      " 2   High       500 non-null    float64\n",
      " 3   Low        500 non-null    float64\n",
      " 4   Close      500 non-null    float64\n",
      " 5   Adj Close  500 non-null    float64\n",
      " 6   Volume     500 non-null    int64  \n",
      "dtypes: float64(5), int64(1), object(1)\n",
      "memory usage: 27.5+ KB\n"
     ]
    }
   ],
   "source": [
    "data.info()"
   ]
  },
  {
   "cell_type": "code",
   "execution_count": 22,
   "id": "89d55750",
   "metadata": {},
   "outputs": [
    {
     "data": {
      "text/html": [
       "<div>\n",
       "<style scoped>\n",
       "    .dataframe tbody tr th:only-of-type {\n",
       "        vertical-align: middle;\n",
       "    }\n",
       "\n",
       "    .dataframe tbody tr th {\n",
       "        vertical-align: top;\n",
       "    }\n",
       "\n",
       "    .dataframe thead th {\n",
       "        text-align: right;\n",
       "    }\n",
       "</style>\n",
       "<table border=\"1\" class=\"dataframe\">\n",
       "  <thead>\n",
       "    <tr style=\"text-align: right;\">\n",
       "      <th></th>\n",
       "      <th>Open</th>\n",
       "      <th>High</th>\n",
       "      <th>Low</th>\n",
       "      <th>Close</th>\n",
       "      <th>Adj Close</th>\n",
       "      <th>Volume</th>\n",
       "    </tr>\n",
       "  </thead>\n",
       "  <tbody>\n",
       "    <tr>\n",
       "      <th>count</th>\n",
       "      <td>500.000000</td>\n",
       "      <td>500.000000</td>\n",
       "      <td>500.000000</td>\n",
       "      <td>500.000000</td>\n",
       "      <td>500.000000</td>\n",
       "      <td>5.000000e+02</td>\n",
       "    </tr>\n",
       "    <tr>\n",
       "      <th>mean</th>\n",
       "      <td>21.301427</td>\n",
       "      <td>22.256219</td>\n",
       "      <td>20.337984</td>\n",
       "      <td>21.297680</td>\n",
       "      <td>21.297680</td>\n",
       "      <td>1.542678e+07</td>\n",
       "    </tr>\n",
       "    <tr>\n",
       "      <th>std</th>\n",
       "      <td>25.680666</td>\n",
       "      <td>26.840209</td>\n",
       "      <td>24.317237</td>\n",
       "      <td>25.530820</td>\n",
       "      <td>25.530820</td>\n",
       "      <td>1.497347e+07</td>\n",
       "    </tr>\n",
       "    <tr>\n",
       "      <th>min</th>\n",
       "      <td>1.406250</td>\n",
       "      <td>1.447917</td>\n",
       "      <td>1.312500</td>\n",
       "      <td>1.395833</td>\n",
       "      <td>1.395833</td>\n",
       "      <td>4.872000e+05</td>\n",
       "    </tr>\n",
       "    <tr>\n",
       "      <th>25%</th>\n",
       "      <td>4.369792</td>\n",
       "      <td>4.536459</td>\n",
       "      <td>4.229167</td>\n",
       "      <td>4.386719</td>\n",
       "      <td>4.386719</td>\n",
       "      <td>4.240500e+06</td>\n",
       "    </tr>\n",
       "    <tr>\n",
       "      <th>50%</th>\n",
       "      <td>7.713542</td>\n",
       "      <td>7.859375</td>\n",
       "      <td>7.468750</td>\n",
       "      <td>7.671875</td>\n",
       "      <td>7.671875</td>\n",
       "      <td>1.130820e+07</td>\n",
       "    </tr>\n",
       "    <tr>\n",
       "      <th>75%</th>\n",
       "      <td>21.880208</td>\n",
       "      <td>23.140624</td>\n",
       "      <td>21.166668</td>\n",
       "      <td>21.942708</td>\n",
       "      <td>21.942708</td>\n",
       "      <td>2.182200e+07</td>\n",
       "    </tr>\n",
       "    <tr>\n",
       "      <th>max</th>\n",
       "      <td>108.500000</td>\n",
       "      <td>110.625000</td>\n",
       "      <td>102.000000</td>\n",
       "      <td>105.062500</td>\n",
       "      <td>105.062500</td>\n",
       "      <td>1.017972e+08</td>\n",
       "    </tr>\n",
       "  </tbody>\n",
       "</table>\n",
       "</div>"
      ],
      "text/plain": [
       "             Open        High         Low       Close   Adj Close  \\\n",
       "count  500.000000  500.000000  500.000000  500.000000  500.000000   \n",
       "mean    21.301427   22.256219   20.337984   21.297680   21.297680   \n",
       "std     25.680666   26.840209   24.317237   25.530820   25.530820   \n",
       "min      1.406250    1.447917    1.312500    1.395833    1.395833   \n",
       "25%      4.369792    4.536459    4.229167    4.386719    4.386719   \n",
       "50%      7.713542    7.859375    7.468750    7.671875    7.671875   \n",
       "75%     21.880208   23.140624   21.166668   21.942708   21.942708   \n",
       "max    108.500000  110.625000  102.000000  105.062500  105.062500   \n",
       "\n",
       "             Volume  \n",
       "count  5.000000e+02  \n",
       "mean   1.542678e+07  \n",
       "std    1.497347e+07  \n",
       "min    4.872000e+05  \n",
       "25%    4.240500e+06  \n",
       "50%    1.130820e+07  \n",
       "75%    2.182200e+07  \n",
       "max    1.017972e+08  "
      ]
     },
     "execution_count": 22,
     "metadata": {},
     "output_type": "execute_result"
    }
   ],
   "source": [
    "data.describe()"
   ]
  },
  {
   "cell_type": "code",
   "execution_count": 23,
   "id": "4cd1bff9",
   "metadata": {},
   "outputs": [
    {
     "data": {
      "text/plain": [
       "[<matplotlib.lines.Line2D at 0x7ffdc9479fd0>]"
      ]
     },
     "execution_count": 23,
     "metadata": {},
     "output_type": "execute_result"
    },
    {
     "data": {
      "image/png": "[encoded data removed]",
      "text/plain": [
       "<Figure size 432x288 with 1 Axes>"
      ]
     },
     "metadata": {
      "needs_background": "light"
     },
     "output_type": "display_data"
    }
   ],
   "source": [
    "Openplt = plt.plot(data['Date'],data['Open'],'r.-',label='open')\n",
    "plt.xlabel('Date')\n",
    "plt.ylabel('Open')\n",
    "plt.title('Price Series')\n",
    "plt.legend()\n",
    "Openplt"
   ]
  },
  {
   "cell_type": "code",
   "execution_count": 24,
   "id": "6060f1d7",
   "metadata": {},
   "outputs": [
    {
     "name": "stderr",
     "output_type": "stream",
     "text": [
      "/Users/lohithsowmiyan/opt/anaconda3/lib/python3.9/site-packages/seaborn/distributions.py:2619: FutureWarning: `distplot` is a deprecated function and will be removed in a future version. Please adapt your code to use either `displot` (a figure-level function with similar flexibility) or `histplot` (an axes-level function for histograms).\n",
      "  warnings.warn(msg, FutureWarning)\n"
     ]
    },
    {
     "data": {
      "text/plain": [
       "<AxesSubplot:xlabel='Volume', ylabel='Density'>"
      ]
     },
     "execution_count": 24,
     "metadata": {},
     "output_type": "execute_result"
    },
    {
     "data": {
      "image/png": "[encoded data removed]",
      "text/plain": [
       "<Figure size 432x288 with 1 Axes>"
      ]
     },
     "metadata": {
      "needs_background": "light"
     },
     "output_type": "display_data"
    }
   ],
   "source": [
    "Vl = sns.distplot(data['Volume'])\n",
    "Vl"
   ]
  },
  {
   "cell_type": "code",
   "execution_count": 25,
   "id": "fb63bf68",
   "metadata": {},
   "outputs": [
    {
     "data": {
      "text/plain": [
       "(          Open       High        Low      Close  Adj Close\n",
       " 0     2.437500   2.500000   1.927083   1.958333   1.958333\n",
       " 1     1.968750   1.979167   1.708333   1.729167   1.729167\n",
       " 2     1.760417   1.770833   1.625000   1.708333   1.708333\n",
       " 3     1.729167   1.750000   1.635417   1.635417   1.635417\n",
       " 4     1.635417   1.645833   1.375000   1.427083   1.427083\n",
       " ..         ...        ...        ...        ...        ...\n",
       " 495  76.312500  80.250000  70.250000  71.500000  71.500000\n",
       " 496  71.937500  74.125000  66.937500  73.250000  73.250000\n",
       " 497  74.000000  75.500000  67.875000  68.687500  68.687500\n",
       " 498  70.375000  72.000000  65.500000  68.187500  68.187500\n",
       " 499  68.312500  73.500000  67.000000  73.437500  73.437500\n",
       " \n",
       " [500 rows x 5 columns],\n",
       " 0      72156000\n",
       " 1      14700000\n",
       " 2       6106800\n",
       " 3       5467200\n",
       " 4      18853200\n",
       "          ...   \n",
       " 495    21696400\n",
       " 496    27709800\n",
       " 497    18284400\n",
       " 498    16654000\n",
       " 499    14241200\n",
       " Name: Volume, Length: 500, dtype: int64)"
      ]
     },
     "execution_count": 25,
     "metadata": {},
     "output_type": "execute_result"
    }
   ],
   "source": [
    "#data is normally distributed\n",
    "\n",
    "from sklearn.model_selection import train_test_split\n",
    "x=data.drop(columns=['Volume','Date'])\n",
    "y=data.Volume\n",
    "x,y"
   ]
  },
  {
   "cell_type": "code",
   "execution_count": 26,
   "id": "e7464ee3",
   "metadata": {},
   "outputs": [
    {
     "data": {
      "text/plain": [
       "(          Open       High        Low      Close  Adj Close\n",
       " 275  13.500000  13.750000  11.958333  12.020833  12.020833\n",
       " 484  94.500000  94.500000  77.500000  79.468750  79.468750\n",
       " 496  71.937500  74.125000  66.937500  73.250000  73.250000\n",
       " 433  54.500000  63.000000  54.250000  62.875000  62.875000\n",
       " 252   7.656250   7.708333   7.458333   7.468750   7.468750\n",
       " ..         ...        ...        ...        ...        ...\n",
       " 47    2.187500   2.333333   2.177083   2.291667   2.291667\n",
       " 146   4.395833   4.833333   4.395833   4.687500   4.687500\n",
       " 148   4.583333   4.666667   4.406250   4.583333   4.583333\n",
       " 147   4.645833   4.802083   4.406250   4.541667   4.541667\n",
       " 286  21.229168  23.458332  20.916668  23.250000  23.250000\n",
       " \n",
       " [400 rows x 5 columns],\n",
       "           Open       High        Low      Close  Adj Close\n",
       " 91    4.645833   4.812500   4.291667   4.375000   4.375000\n",
       " 234   7.937500   7.947917   7.593750   7.755208   7.755208\n",
       " 264   7.479167   7.541667   7.000000   7.041667   7.041667\n",
       " 66    2.093750   2.208333   2.052083   2.166667   2.166667\n",
       " 455  60.718750  63.218750  59.625000  61.093750  61.093750\n",
       " ..         ...        ...        ...        ...        ...\n",
       " 176   4.817708   4.864583   4.666667   4.750000   4.750000\n",
       " 344  16.416668  18.437500  16.416668  18.208332  18.208332\n",
       " 464  70.937500  71.531250  67.500000  67.531250  67.531250\n",
       " 474  86.312500  93.750000  85.875000  93.250000  93.250000\n",
       " 215   6.875000   7.229167   6.875000   7.020833   7.020833\n",
       " \n",
       " [100 rows x 5 columns],\n",
       " 275    31639800\n",
       " 484    28369800\n",
       " 496    27709800\n",
       " 433    18791000\n",
       " 252     4628400\n",
       "          ...   \n",
       " 47      3259200\n",
       " 146     5014800\n",
       " 148     1694400\n",
       " 147     2672400\n",
       " 286    46883400\n",
       " Name: Volume, Length: 400, dtype: int64,\n",
       " 91      8200800\n",
       " 234     8354400\n",
       " 264     6581400\n",
       " 66      1003200\n",
       " 455    10462600\n",
       "          ...   \n",
       " 176     4104000\n",
       " 344    36598800\n",
       " 464    10725200\n",
       " 474    15916800\n",
       " 215     5680800\n",
       " Name: Volume, Length: 100, dtype: int64)"
      ]
     },
     "execution_count": 26,
     "metadata": {},
     "output_type": "execute_result"
    }
   ],
   "source": [
    "x_train,x_test,y_train,y_test= train_test_split(x,y,test_size=0.2)\n",
    "x_train,x_test,y_train,y_test"
   ]
  },
  {
   "cell_type": "code",
   "execution_count": 27,
   "id": "37d98585",
   "metadata": {},
   "outputs": [
    {
     "data": {
      "text/plain": [
       "array([11203462.4551238 , 11204165.99911041, 11204011.09148193,\n",
       "       11203567.41407535, 11204967.67279403, 11203956.32210559,\n",
       "       11205443.7951702 , 11204164.11180762, 11203644.8365067 ,\n",
       "       11205294.9486388 , 11203443.33762163, 11203439.23256973,\n",
       "       11205451.28048846, 11204694.74688036, 11203433.79698089,\n",
       "       11203464.57897271, 11203434.26667499, 11204183.41879321,\n",
       "       11204079.35536044, 11204932.0638215 , 11204959.34583141,\n",
       "       11203930.92505789, 11204924.68120065, 11205457.99861684,\n",
       "       11204025.23659138, 11203557.18190768, 11204933.75157447,\n",
       "       11203531.17209162, 11203539.72109863, 11205358.1277325 ,\n",
       "       11203473.32305993, 11205445.14874126, 11203470.6448889 ,\n",
       "       11204930.03689541, 11203533.62388308, 11204922.02628533,\n",
       "       11203541.77611488, 11203522.43394306, 11203631.80417526,\n",
       "       11204895.15643089, 11204914.43917418, 11204973.9971631 ,\n",
       "       11205277.23692019, 11205391.3753616 , 11205409.04694172,\n",
       "       11203538.66232817, 11203466.54481924, 11203937.08644965,\n",
       "       11204902.55746177, 11203433.57278359, 11204915.81405356,\n",
       "       11203929.73193383, 11203852.35975165, 11204104.56244817,\n",
       "       11203463.31064003, 11204982.04473822, 11204753.69247488,\n",
       "       11203668.43762135, 11204927.27322659, 11203452.12291446,\n",
       "       11204288.56779155, 11203838.56491812, 11203683.19632629,\n",
       "       11205345.71501146, 11203688.91001108, 11205348.3723489 ,\n",
       "       11204887.66022629, 11205370.60647964, 11204222.78311604,\n",
       "       11203680.3451717 , 11204913.9819103 , 11203969.22434146,\n",
       "       11203560.27498119, 11204905.16995794, 11204987.53895445,\n",
       "       11204073.26995121, 11203569.24599627, 11203624.18750926,\n",
       "       11203549.84248568, 11204903.15913649, 11204967.10525576,\n",
       "       11205285.49301135, 11204082.02999536, 11204189.98460187,\n",
       "       11204939.66095342, 11205362.88183474, 11204883.97903825,\n",
       "       11204828.43934752, 11203445.89774026, 11204928.82967873,\n",
       "       11205432.84122967, 11203428.28265063, 11204883.53074538,\n",
       "       11203715.47568193, 11204122.58994091, 11203488.79380184,\n",
       "       11205452.51869969, 11204924.45975185, 11204881.66207904,\n",
       "       11203952.27939878])"
      ]
     },
     "execution_count": 27,
     "metadata": {},
     "output_type": "execute_result"
    }
   ],
   "source": [
    "from sklearn.svm import SVR\n",
    "svm = SVR(C=10,gamma=0.01,kernel='rbf')\n",
    "svm.fit(x_train,y_train)\n",
    "predict = svm.predict(x_test)\n",
    "predict"
   ]
  },
  {
   "cell_type": "code",
   "execution_count": 28,
   "id": "32d127e2",
   "metadata": {},
   "outputs": [
    {
     "data": {
      "text/plain": [
       "-0.10861220597266019"
      ]
     },
     "execution_count": 28,
     "metadata": {},
     "output_type": "execute_result"
    }
   ],
   "source": [
    "from sklearn.metrics import mean_squared_error,r2_score\n",
    "mse = mean_squared_error(y_test,predict)\n",
    "rmse = np.sqrt(mse)\n",
    "r2= r2_score(y_test,predict)\n",
    "r2"
   ]
  },
  {
   "cell_type": "code",
   "execution_count": 31,
   "id": "2a9078b4",
   "metadata": {},
   "outputs": [
    {
     "data": {
      "text/plain": [
       "array([11957791.9515306 , 11475974.60281271, 11764140.38103377,\n",
       "       11398891.65054107, 18263317.57328481, 12294531.37078938,\n",
       "       12105128.85210192, 11837942.58304211, 11282554.87420917,\n",
       "       21309414.56642357, 11906334.87846864, 11407542.59238268,\n",
       "       14709925.68989964, 14960501.87743605, 11361766.27693486,\n",
       "       11988637.04403488, 12712784.98131524, 11588154.47699692,\n",
       "       11728037.28183297, 45247944.4311692 , 17901846.15227006,\n",
       "       12582475.77605417, 23294645.60933257, 18012515.85009027,\n",
       "       11647355.12806997, 11907791.96555404, 24497636.00188852,\n",
       "       11418419.97315822, 12437657.48635401, 13917431.62236207,\n",
       "       11908997.22470369, 12785814.51571118, 11439720.44188696,\n",
       "       16746652.8684253 , 11039395.7455668 , 20411341.2953288 ,\n",
       "       11463543.92221927, 11690804.24026345, 12050287.07521134,\n",
       "       27395875.52573336, 32812785.86262881, 27706669.61036187,\n",
       "       14190169.20221181, 13616604.07288956, 14521075.01784758,\n",
       "       12073784.46115083, 11602584.81558556, 11722553.66209036,\n",
       "       34587884.54756331, 11436856.93415467, 30498574.32892735,\n",
       "       11535716.51915925, 11092836.82033747, 11747565.68657981,\n",
       "       11371453.97498289, 23587656.41417391, 12537217.45212698,\n",
       "       11212944.61030445, 13341633.90621153, 13164397.1495338 ,\n",
       "       13812055.94005653, 11604310.11563533, 11085499.59582178,\n",
       "       13177716.93647547, 11046363.13625322, 12944420.46190674,\n",
       "       31921247.61424123, 14156631.86332939, 11659469.67347363,\n",
       "       11144510.01275161, 15689389.3662291 , 11737662.77855113,\n",
       "       11432168.65569486, 29930045.82398309, 21947711.5962744 ,\n",
       "       11300721.45472564, 11277223.40792803, 11441416.28859824,\n",
       "       11307448.9158323 , 16071907.80573816, 24448724.27437053,\n",
       "       17034350.69361851, 12130865.95652502, 13161071.07304051,\n",
       "       17118550.13710708, 11972760.16511715, 23771807.8279605 ,\n",
       "       15541447.47047691, 11475968.45821658, 16818725.29418529,\n",
       "       14013462.01245101, 11380058.25280773, 26895933.27470422,\n",
       "       11801721.95595698, 11501498.27255916, 11284643.06771284,\n",
       "       17105986.32000876, 15864736.42870794, 33864733.74409784,\n",
       "       11781935.55505865])"
      ]
     },
     "execution_count": 31,
     "metadata": {},
     "output_type": "execute_result"
    }
   ],
   "source": [
    "from sklearn.linear_model import Ridge\n",
    "\n",
    "ri = Ridge().fit(x_train,y_train)\n",
    "ri_p = ri.predict(x_test)\n",
    "ri_p"
   ]
  },
  {
   "cell_type": "code",
   "execution_count": 33,
   "id": "6b70e234",
   "metadata": {},
   "outputs": [],
   "source": [
    "import joblib\n",
    "joblib.dump(ri,'rmodel.pkl')\n",
    "ri_from_joblib = model = joblib.load(\"rmodel.pkl\")"
   ]
  },
  {
   "cell_type": "code",
   "execution_count": null,
   "id": "a0b2e6bc",
   "metadata": {},
   "outputs": [],
   "source": []
  }
 ],
 "metadata": {
  "kernelspec": {
   "display_name": "Python 3 (ipykernel)",
   "language": "python",
   "name": "python3"
  },
  "language_info": {
   "codemirror_mode": {
    "name": "ipython",
    "version": 3
   },
   "file_extension": ".py",
   "mimetype": "text/x-python",
   "name": "python",
   "nbconvert_exporter": "python",
   "pygments_lexer": "ipython3",
   "version": "3.9.7"
  }
 },
 "nbformat": 4,
 "nbformat_minor": 5
}
